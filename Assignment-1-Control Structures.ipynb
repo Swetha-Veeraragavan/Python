{
 "cells": [
  {
   "cell_type": "code",
   "execution_count": 1,
   "id": "dd66cce1",
   "metadata": {},
   "outputs": [
    {
     "name": "stdout",
     "output_type": "stream",
     "text": [
      "Welcome to Assignment-1\n"
     ]
    }
   ],
   "source": [
    "print(\"Welcome to Assignment-1\")"
   ]
  },
  {
   "cell_type": "code",
   "execution_count": 2,
   "id": "9b5a09a3",
   "metadata": {},
   "outputs": [
    {
     "name": "stdout",
     "output_type": "stream",
     "text": [
      "Num1= 30\n",
      "Num2= 10\n",
      "Num1=  30\n",
      "Num2=  10\n",
      "Add=  40\n"
     ]
    }
   ],
   "source": [
    "num1 = int(input(\"Num1= \"))\n",
    "num2 = int(input(\"Num2= \"))\n",
    "add = num1 + num2\n",
    "print(\"Num1= \", num1)\n",
    "print(\"Num2= \", num2)\n",
    "print(\"Add= \", add)"
   ]
  },
  {
   "cell_type": "markdown",
   "id": "74faee15",
   "metadata": {},
   "source": [
    "### Body Mass Index"
   ]
  },
  {
   "cell_type": "markdown",
   "id": "c984b017",
   "metadata": {},
   "source": [
    "Underweight --> <18.5\n",
    "Normal --> 18.5 to 24.9\n",
    "Overweight --> 25 to 29.9\n",
    "Obese --> >=30\n",
    "    Class 1 Obese --> 30-34.9\n",
    "    Class 2 Obese --> 35-39.9\n",
    "    Class 3 Obese --> >=40"
   ]
  },
  {
   "cell_type": "code",
   "execution_count": 3,
   "id": "ce82295f",
   "metadata": {},
   "outputs": [
    {
     "name": "stdout",
     "output_type": "stream",
     "text": [
      "Enter the BMI Index: 34\n",
      "Class 1 Obese\n"
     ]
    }
   ],
   "source": [
    "bmi = float(input(\"Enter the BMI Index: \"))\n",
    "\n",
    "if(bmi<18.5):\n",
    "    print(\"Underweight\")\n",
    "elif((bmi>=18.5) and (bmi<=24.9)):\n",
    "    print(\"Normal weight\")\n",
    "elif((bmi>=25) and (bmi<=29.9)):\n",
    "    print(\"Overweight\")\n",
    "elif((bmi>=30) and (bmi<=34.9)):\n",
    "    print(\"Class 1 Obese\")\n",
    "elif((bmi>=35) and (bmi<=39.9)):\n",
    "    print(\"Class 2 Obese\")\n",
    "elif(bmi>=40):\n",
    "    print(\"Class 3 Obese\")"
   ]
  }
 ],
 "metadata": {
  "kernelspec": {
   "display_name": "Python 3 (ipykernel)",
   "language": "python",
   "name": "python3"
  },
  "language_info": {
   "codemirror_mode": {
    "name": "ipython",
    "version": 3
   },
   "file_extension": ".py",
   "mimetype": "text/x-python",
   "name": "python",
   "nbconvert_exporter": "python",
   "pygments_lexer": "ipython3",
   "version": "3.9.7"
  }
 },
 "nbformat": 4,
 "nbformat_minor": 5
}
