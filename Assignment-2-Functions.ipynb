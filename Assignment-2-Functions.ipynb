{
 "cells": [
  {
   "cell_type": "code",
   "execution_count": 1,
   "id": "2906532e",
   "metadata": {},
   "outputs": [],
   "source": [
    "#  Create a class and function, and list out the items in the list \n",
    "  \n",
    "def Subfields():\n",
    "    print('Sub-fields in AI are: ')\n",
    "    for my_list in lists:\n",
    "        print(my_list)"
   ]
  },
  {
   "cell_type": "code",
   "execution_count": 2,
   "id": "627a81c7",
   "metadata": {},
   "outputs": [],
   "source": [
    "lists = ['Machine Learning', 'Neural networks', 'Vision', 'Ronotics', 'Speech Processing', 'Natural Language Processing']"
   ]
  },
  {
   "cell_type": "code",
   "execution_count": 3,
   "id": "e1ca10f5",
   "metadata": {},
   "outputs": [
    {
     "name": "stdout",
     "output_type": "stream",
     "text": [
      "Sub-fields in AI are: \n",
      "Machine Learning\n",
      "Neural networks\n",
      "Vision\n",
      "Ronotics\n",
      "Speech Processing\n",
      "Natural Language Processing\n"
     ]
    }
   ],
   "source": [
    "Subfields()"
   ]
  },
  {
   "cell_type": "code",
   "execution_count": 7,
   "id": "36f56db0",
   "metadata": {},
   "outputs": [],
   "source": [
    "# Create a function that checks whether the given number is Odd or Even\n",
    "\n",
    "def OddEven(num):\n",
    "    if(num%2==0):\n",
    "        return 'Even'\n",
    "    else:\n",
    "        return 'Odd'"
   ]
  },
  {
   "cell_type": "code",
   "execution_count": 10,
   "id": "5bc5eabb",
   "metadata": {},
   "outputs": [
    {
     "name": "stdout",
     "output_type": "stream",
     "text": [
      "Enter number: 2\n",
      "Even\n"
     ]
    }
   ],
   "source": [
    "num = int(input('Enter number: '))\n",
    "value = OddEven(num)\n",
    "print(value)"
   ]
  },
  {
   "cell_type": "code",
   "execution_count": 4,
   "id": "e3dfa283",
   "metadata": {},
   "outputs": [],
   "source": [
    "def OddEven(num):\n",
    "    if(num%2==0):\n",
    "        return 'Even'\n",
    "    else:\n",
    "        return 'Odd'"
   ]
  },
  {
   "cell_type": "code",
   "execution_count": 5,
   "id": "1d808e74",
   "metadata": {},
   "outputs": [
    {
     "name": "stdout",
     "output_type": "stream",
     "text": [
      "Enter number: 52452\n",
      "52452  is  Even  number\n"
     ]
    }
   ],
   "source": [
    "num = int(input('Enter number: '))\n",
    "value = OddEven(num)\n",
    "print(num,' is ',value, ' number')"
   ]
  },
  {
   "cell_type": "code",
   "execution_count": 6,
   "id": "a5a630e5",
   "metadata": {},
   "outputs": [],
   "source": [
    "# Create a function that tells elegibility of marriage for male and female according to their age limit like 21 for male and 18 for female \n",
    "\n",
    "def Elegible():\n",
    "    gender = input('Your Gender: ')\n",
    "    age = int(input('Your Age: '))\n",
    "    if((gender=='Male' and age>21) or (gender=='Female' and age>18)):\n",
    "        print('ELIGIBLE')\n",
    "    else:\n",
    "        print('NOT ELIGIBLE')"
   ]
  },
  {
   "cell_type": "code",
   "execution_count": 7,
   "id": "e3259a5c",
   "metadata": {},
   "outputs": [
    {
     "name": "stdout",
     "output_type": "stream",
     "text": [
      "Your Gender: Male\n",
      "Your Age: 20\n",
      "NOT ELIGIBLE\n"
     ]
    }
   ],
   "source": [
    "Elegible()"
   ]
  },
  {
   "cell_type": "code",
   "execution_count": 8,
   "id": "52866a7b",
   "metadata": {},
   "outputs": [],
   "source": [
    "#  calculate the percentage of your 10th mark \n",
    "\n",
    "def percentage():\n",
    "    subject1 = int(input('Enter subject 1 mark: '))\n",
    "    subject2 = int(input('Enter subject 2 mark: '))\n",
    "    subject3 = int(input('Enter subject 3 mark: '))\n",
    "    subject4 = int(input('Enter subject 4 mark: '))\n",
    "    subject5 = int(input('Enter subject 5 mark: '))\n",
    "    total = subject1 + subject2 + subject3 + subject4 + subject5\n",
    "    average = total/5\n",
    "    print('Total : ', total)\n",
    "    print('Percentage : ', average)"
   ]
  },
  {
   "cell_type": "code",
   "execution_count": 9,
   "id": "a8bec4c9",
   "metadata": {},
   "outputs": [
    {
     "name": "stdout",
     "output_type": "stream",
     "text": [
      "Enter subject 1 mark: 98\n",
      "Enter subject 2 mark: 87\n",
      "Enter subject 3 mark: 95\n",
      "Enter subject 4 mark: 95\n",
      "Enter subject 5 mark: 93\n",
      "Total :  468\n",
      "Percentage :  93.6\n"
     ]
    }
   ],
   "source": [
    "percentage()"
   ]
  },
  {
   "cell_type": "code",
   "execution_count": 10,
   "id": "9158b088",
   "metadata": {},
   "outputs": [],
   "source": [
    "# print area and perimeter of triangle using class and functions\n",
    "def triangle():\n",
    "    Height = int(input('Enter Height: '))\n",
    "    Breadth = int(input('Enter Breadth: '))\n",
    "    area = (Height*Breadth)/2\n",
    "    print('Arearmula : (Height*Breadth)/2')\n",
    "    print('Area of Triagle: ',area)\n",
    "    Height1 = int(input('Enter Height1: '))\n",
    "    Height2 = int(input('Enter Height2 '))\n",
    "    Breadth = int(input('Enter Breadth'))\n",
    "    perimeter = Height1 + Height2 + Breadth\n",
    "    print('Perimeter formula : Height1 + Height2 + Breadth')\n",
    "    print('perimeter of Triange: ', perimeter)"
   ]
  },
  {
   "cell_type": "code",
   "execution_count": 11,
   "id": "1bff346d",
   "metadata": {},
   "outputs": [
    {
     "name": "stdout",
     "output_type": "stream",
     "text": [
      "Enter Height: 32\n",
      "Enter Breadth: 34\n",
      "Arearmula : (Height*Breadth)/2\n",
      "Area of Triagle:  544.0\n",
      "Enter Height1: 2\n",
      "Enter Height2 4\n",
      "Enter Breadth4\n",
      "Perimeter formula : Height1 + Height2 + Breadth\n",
      "perimeter of Triange:  10\n"
     ]
    }
   ],
   "source": [
    "triangle()"
   ]
  },
  {
   "cell_type": "code",
   "execution_count": null,
   "id": "05f109cc",
   "metadata": {},
   "outputs": [],
   "source": []
  }
 ],
 "metadata": {
  "kernelspec": {
   "display_name": "Python 3 (ipykernel)",
   "language": "python",
   "name": "python3"
  },
  "language_info": {
   "codemirror_mode": {
    "name": "ipython",
    "version": 3
   },
   "file_extension": ".py",
   "mimetype": "text/x-python",
   "name": "python",
   "nbconvert_exporter": "python",
   "pygments_lexer": "ipython3",
   "version": "3.9.7"
  }
 },
 "nbformat": 4,
 "nbformat_minor": 5
}
